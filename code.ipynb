{
 "cells": [
  {
   "cell_type": "code",
   "execution_count": 1,
   "id": "d4ec154e",
   "metadata": {},
   "outputs": [],
   "source": [
    "import numpy as np\n",
    "import pandas as pd\n",
    "import csv\n",
    "from sklearn.naive_bayes import GaussianNB\n",
    "from sklearn.model_selection import train_test_split\n",
    "from sklearn.linear_model import LogisticRegression\n",
    "from sklearn import preprocessing\n",
    "from sklearn.neural_network import MLPClassifier\n",
    "from sklearn.linear_model import SGDClassifier\n",
    "import matplotlib.pyplot as plt \n",
    "import seaborn as sns\n",
    "import random\n",
    "import time\n",
    "import math"
   ]
  },
  {
   "cell_type": "code",
   "execution_count": 2,
   "id": "7d69f503",
   "metadata": {
    "scrolled": true
   },
   "outputs": [],
   "source": [
    "data = pd.read_csv(\"dataset.csv\")\n",
    "#data"
   ]
  },
  {
   "cell_type": "code",
   "execution_count": 3,
   "id": "21553768",
   "metadata": {},
   "outputs": [],
   "source": [
    "# Filtering only required columns\n",
    "data = data[['Core_cyc',\n",
    "       'Ref_cyc', 'Instruct', 'Ins_Retd', 'ILenStal', 'DTLBLoadMissWD',\n",
    "       'DTLBStoreMissW', 'DTLBStrMiss_SH', 'DTLBStrMiss_WC',\n",
    "       'DTLBStrMiss_WD', 'FP_Assist_ANY', 'HW_Intrs_Rcvd',\n",
    "       'ICache_Misses', 'IDQ_All_DSB_C', 'IDQ_AllMite_UO',\n",
    "       'L1D_P_Miss_Oc', 'L3_LAT_C_Miss', 'M_Ld_LLCH.XS_M',\n",
    "       'M_Ld_LLCH.XS_N', 'MLdULLCM_LDRAM', 'M_Ld_Ret_L1Hit',\n",
    "       'M_Ld_Ret_L2Hit', 'M_Ld_Ret_L3Hit', 'Loop_uops', 'Dec_uops',\n",
    "       'Cach_uops', 'Uops', 'Macrofus', 'Uops_F.D.', 'res.stl.', 'uop_p0',\n",
    "       'uop_p1', 'uop_p2', 'uop_p3', 'uop_p4', 'uop_p5', 'uop_p05',\n",
    "       'BrMispred', 'Mov_elim', 'BrTaken', 'Mov_elim-', 'L1D_Miss',\n",
    "       'ITLBMissW', 'ITLBMissS', 'L1D_Rep', 'L2ReqAll', 'L2ReqPFms',\n",
    "       'Load_Hit_Pre', 'BrMispExec_Any', 'BrMispRetd_All',\n",
    "       'CPL_CYCLES(R0)', 'CPU_CLK_UNH_RF', 'DSB2MIT_SW_CNT',\n",
    "       'DTLBLoadMiss_W', 'DTLBLoadMissWC', 'binarylabel', 'goal',\n",
    "       'family']]"
   ]
  },
  {
   "cell_type": "code",
   "execution_count": 4,
   "id": "1e034998",
   "metadata": {},
   "outputs": [],
   "source": [
    "benign_df = data.loc[data['binarylabel'] == 0]\n",
    "malware_df = data.loc[data['binarylabel'] == 1]"
   ]
  },
  {
   "cell_type": "code",
   "execution_count": 5,
   "id": "7c12bcc9",
   "metadata": {},
   "outputs": [],
   "source": [
    "benign_df_rows = benign_df.to_numpy().tolist()\n",
    "malware_df_rows = malware_df.to_numpy().tolist()"
   ]
  },
  {
   "cell_type": "code",
   "execution_count": 6,
   "id": "26a84ec7",
   "metadata": {},
   "outputs": [],
   "source": [
    "#print(benign_df_rows[0])\n",
    "#print(len(benign_df_rows[0]))"
   ]
  },
  {
   "cell_type": "code",
   "execution_count": 7,
   "id": "2b9306e2",
   "metadata": {},
   "outputs": [],
   "source": [
    "def correlation(x, y):\n",
    "    mean_x = sum(x)/float(len(x))\n",
    "    mean_y = sum(y)/float(len(y))\n",
    "    sub_x = [i-mean_x for i in x]\n",
    "    sub_y = [i-mean_y for i in y]\n",
    "    \n",
    "    numerator = sum([sub_x[i]*sub_y[i] for i in range(len(sub_x))])\n",
    "\n",
    "    \n",
    "    std_deviation_x = sum([sub_x[i]**2.0 for i in range(len(sub_x))])\n",
    "    std_deviation_y = sum([sub_y[i]**2.0 for i in range(len(sub_y))])\n",
    "    \n",
    "    denominator = (std_deviation_x*std_deviation_y)**0.5\n",
    "    \n",
    "    try:\n",
    "      cor = numerator/denominator\n",
    "    except:\n",
    "      return 5\n",
    "\n",
    "    return cor"
   ]
  },
  {
   "cell_type": "code",
   "execution_count": 8,
   "id": "5c461f62",
   "metadata": {},
   "outputs": [],
   "source": [
    "c_partition = []\n",
    "for i in range(len(benign_df_rows)):\n",
    "    c_partition.append(0)\n",
    "for i in range(len(malware_df_rows)):\n",
    "    c_partition.append(1)\n",
    "    \n",
    "\n",
    "required_feature = []\n",
    "\n",
    "for i in range(55):\n",
    "    temp = []\n",
    "    for j in range(len(benign_df_rows)):\n",
    "        temp.append(benign_df_rows[j][i])\n",
    "    for j in range(len(malware_df_rows)):\n",
    "        temp.append(malware_df_rows[j][i])\n",
    "    required_feature.append([abs(correlation(temp,c_partition)),i])\n",
    "\n",
    "required_feature.sort()\n",
    "    \n",
    "#print(required_feature)"
   ]
  },
  {
   "cell_type": "code",
   "execution_count": 9,
   "id": "50cb64c5",
   "metadata": {},
   "outputs": [],
   "source": [
    "X_train_normal = []\n",
    "X_train_malware = []\n",
    "\n",
    "featurelist = []\n",
    "\n",
    "for i in range(32):\n",
    "    featurelist.append(required_feature[52-i][1])\n",
    "\n",
    "    \n",
    "for i in range(len(benign_df_rows)):\n",
    "    X_train_normal.append([])\n",
    "    for j in range(32):\n",
    "        X_train_normal[i].append(benign_df_rows[i][featurelist[j]])\n",
    "\n",
    "for i in range(len(malware_df_rows)):\n",
    "    X_train_malware.append([])\n",
    "    for j in range(32):\n",
    "        X_train_malware[i].append(malware_df_rows[i][featurelist[j]])"
   ]
  },
  {
   "cell_type": "code",
   "execution_count": 10,
   "id": "28b230b4",
   "metadata": {},
   "outputs": [
    {
     "name": "stdout",
     "output_type": "stream",
     "text": [
      "[871, 548376, 1352, 1123, 24271, 12463, 2429, 2736, 25506228, 25950191, 25950287, 8136008, 1539, 90507, 2374455, 37473576, 1253925, 44738745, 525908, 2919079, 5040486, 453, 38575681, 25272689, 9592709, 9050974, 17830, 3793459, 342831, 2005, 13540405, 4756]\n",
      "[4830, 6796, 1, 1, 638, 605, 15532, 33, 19990591, 56928250, 56928256, 21641, 13101, 344, 6681, 38897292, 4569, 132127456, 571, 8036738, 719, 31241, 40041320, 77143, 1017, 879, 143, 14985, 45356, 0, 103180346, 0]\n"
     ]
    }
   ],
   "source": [
    "print(X_train_normal[0])\n",
    "print(X_train_malware[0])"
   ]
  },
  {
   "cell_type": "code",
   "execution_count": 11,
   "id": "056b4fe0",
   "metadata": {},
   "outputs": [],
   "source": [
    "def Extract(data,k):\n",
    "    for i in range(len(data)):\n",
    "        data[i] = data[i][:k]\n",
    "    return data"
   ]
  },
  {
   "cell_type": "code",
   "execution_count": 12,
   "id": "fcbe1ddb",
   "metadata": {},
   "outputs": [
    {
     "name": "stdout",
     "output_type": "stream",
     "text": [
      "Requirement already satisfied: mlxtend in c:\\users\\deepthi\\appdata\\local\\programs\\python\\python310\\lib\\site-packages (0.19.0)\n",
      "Requirement already satisfied: numpy>=1.16.2 in c:\\users\\deepthi\\appdata\\local\\programs\\python\\python310\\lib\\site-packages (from mlxtend) (1.22.2)\n",
      "Requirement already satisfied: setuptools in c:\\users\\deepthi\\appdata\\local\\programs\\python\\python310\\lib\\site-packages (from mlxtend) (58.1.0)\n",
      "Requirement already satisfied: scipy>=1.2.1 in c:\\users\\deepthi\\appdata\\local\\programs\\python\\python310\\lib\\site-packages (from mlxtend) (1.8.0)\n",
      "Requirement already satisfied: joblib>=0.13.2 in c:\\users\\deepthi\\appdata\\local\\programs\\python\\python310\\lib\\site-packages (from mlxtend) (1.1.0)\n",
      "Requirement already satisfied: pandas>=0.24.2 in c:\\users\\deepthi\\appdata\\local\\programs\\python\\python310\\lib\\site-packages (from mlxtend) (1.4.1)\n",
      "Requirement already satisfied: matplotlib>=3.0.0 in c:\\users\\deepthi\\appdata\\local\\programs\\python\\python310\\lib\\site-packages (from mlxtend) (3.5.1)\n",
      "Requirement already satisfied: scikit-learn>=0.20.3 in c:\\users\\deepthi\\appdata\\local\\programs\\python\\python310\\lib\\site-packages (from mlxtend) (1.0.2)\n",
      "Requirement already satisfied: packaging>=20.0 in c:\\users\\deepthi\\appdata\\local\\programs\\python\\python310\\lib\\site-packages (from matplotlib>=3.0.0->mlxtend) (21.3)\n",
      "Requirement already satisfied: cycler>=0.10 in c:\\users\\deepthi\\appdata\\local\\programs\\python\\python310\\lib\\site-packages (from matplotlib>=3.0.0->mlxtend) (0.11.0)\n",
      "Requirement already satisfied: python-dateutil>=2.7 in c:\\users\\deepthi\\appdata\\local\\programs\\python\\python310\\lib\\site-packages (from matplotlib>=3.0.0->mlxtend) (2.8.2)\n",
      "Requirement already satisfied: fonttools>=4.22.0 in c:\\users\\deepthi\\appdata\\local\\programs\\python\\python310\\lib\\site-packages (from matplotlib>=3.0.0->mlxtend) (4.29.1)\n",
      "Requirement already satisfied: pillow>=6.2.0 in c:\\users\\deepthi\\appdata\\local\\programs\\python\\python310\\lib\\site-packages (from matplotlib>=3.0.0->mlxtend) (9.0.1)\n",
      "Requirement already satisfied: kiwisolver>=1.0.1 in c:\\users\\deepthi\\appdata\\local\\programs\\python\\python310\\lib\\site-packages (from matplotlib>=3.0.0->mlxtend) (1.3.2)\n",
      "Requirement already satisfied: pyparsing>=2.2.1 in c:\\users\\deepthi\\appdata\\local\\programs\\python\\python310\\lib\\site-packages (from matplotlib>=3.0.0->mlxtend) (3.0.7)\n",
      "Requirement already satisfied: pytz>=2020.1 in c:\\users\\deepthi\\appdata\\local\\programs\\python\\python310\\lib\\site-packages (from pandas>=0.24.2->mlxtend) (2021.3)\n",
      "Requirement already satisfied: six>=1.5 in c:\\users\\deepthi\\appdata\\local\\programs\\python\\python310\\lib\\site-packages (from python-dateutil>=2.7->matplotlib>=3.0.0->mlxtend) (1.16.0)\n",
      "Requirement already satisfied: threadpoolctl>=2.0.0 in c:\\users\\deepthi\\appdata\\local\\programs\\python\\python310\\lib\\site-packages (from scikit-learn>=0.20.3->mlxtend) (3.1.0)\n"
     ]
    },
    {
     "name": "stderr",
     "output_type": "stream",
     "text": [
      "WARNING: You are using pip version 21.2.4; however, version 22.1 is available.\n",
      "You should consider upgrading via the 'C:\\Users\\Deepthi\\AppData\\Local\\Programs\\Python\\Python310\\python.exe -m pip install --upgrade pip' command.\n"
     ]
    }
   ],
   "source": [
    "!pip install mlxtend"
   ]
  },
  {
   "cell_type": "code",
   "execution_count": 13,
   "id": "5e6aeebe",
   "metadata": {},
   "outputs": [],
   "source": [
    "def ComputeAccuracy(y_pred, y_test):\n",
    "    match = (y_test == y_pred).sum()\n",
    "    accuracy = match/len(y_test)\n",
    "    return accuracy\n",
    "\n",
    "# BayesNet\n",
    "\n",
    "#https://analyticsindiamag.com/a-guide-to-inferencing-with-bayesian-network-in-python/\n",
    "\n",
    "\n",
    "# Naive Bayes\n",
    "# https://scikit-learn.org/stable/modules/naive_bayes.html\n",
    "def NaiveBayes(X_train, y_train, X_test, y_test):\n",
    "    gnb = GaussianNB()\n",
    "    y_pred = gnb.fit(X_train, y_train).predict(X_test)\n",
    "    accuracy = ComputeAccuracy(y_pred, y_test)\n",
    "    return accuracy\n",
    "\n",
    "# https://www.datacamp.com/tutorial/understanding-logistic-regression-python\n",
    "def Logistic(X_train, y_train, X_test, y_test):\n",
    "    logreg = LogisticRegression()\n",
    "    logreg.fit(X_train,y_train)\n",
    "    y_pred = logreg.predict(X_test)\n",
    "    accuracy = ComputeAccuracy(y_pred, y_test)\n",
    "    return accuracy\n",
    "\n",
    "# MultiPerceptron\n",
    "# https://scikit-learn.org/stable/modules/neural_networks_supervised.html#:~:text=Multi%2Dlayer%20Perceptron%20(MLP),number%20of%20dimensions%20for%20output.\n",
    "def MLP(X_train, y_train, X_test, y_test):\n",
    "    clf = MLPClassifier(solver='lbfgs', alpha=1e-5, hidden_layer_sizes=(100, 100), random_state=1)\n",
    "    clf.fit(X_train, y_train)\n",
    "    y_pred = clf.predict(X_test)\n",
    "    accuracy = ComputeAccuracy(y_pred, y_test)\n",
    "    return accuracy\n",
    "\n",
    "# SGD : Stochastic Gradient Descent\n",
    "# https://scikit-learn.org/stable/modules/sgd.html\n",
    "def SGD(X_train, y_train, X_test, y_test):\n",
    "    clf = SGDClassifier(loss=\"hinge\", penalty=\"l2\", max_iter=100)\n",
    "    clf.fit(X_train, y_train)\n",
    "    y_pred = clf.predict(X_test)\n",
    "    accuracy = ComputeAccuracy(y_pred, y_test)\n",
    "    return accuracy\n",
    "\n",
    "# Simple Logistic \n",
    "\n",
    "\n",
    "\n",
    "# SMO \n",
    "# https://www.codeproject.com/Articles/1267445/An-Introduction-to-Support-Vector-Machine-SVM-and\n",
    "\n",
    "\n",
    "# JRIP\n",
    "\n",
    "\n",
    "# OneR Classifier\n",
    "# https://rasbt.github.io/mlxtend/user_guide/classifier/OneRClassifier/\n",
    "from mlxtend.classifier import OneRClassifier\n",
    "def OneR(X_train, y_train, X_test, y_test):\n",
    "    oner = OneRClassifier()\n",
    "    oner.fit(X_train, y_train)\n",
    "    oner.predict(X_train)\n",
    "    y_pred = oner.predict(X_test)\n",
    "    accuracy = ComputeAccuracy(y_pred, y_test)\n",
    "    return accuracy\n",
    "\n",
    "# Decision Tree based classifiers\n",
    "# https://www.datacamp.com/tutorial/decision-tree-classification-python\n",
    "from sklearn.tree import DecisionTreeClassifier\n",
    "def DecisionTree(X_train, y_train, X_test, y_test):\n",
    "    clf = DecisionTreeClassifier()\n",
    "    clf = clf.fit(X_train,y_train)\n",
    "    y_pred = clf.predict(X_test)\n",
    "    accuracy = ComputeAccuracy(y_pred, y_test)\n",
    "    return accuracy"
   ]
  },
  {
   "cell_type": "code",
   "execution_count": 14,
   "id": "821568e5",
   "metadata": {},
   "outputs": [],
   "source": [
    "def ExtractData(X_normal, X_malware, k):\n",
    "    X_train_normal = Extract(X_normal, k)\n",
    "    X_train_malware = Extract(X_malware, k)\n",
    "    \n",
    "    # 70% training and 30% test\n",
    "    y_normal = [0 for i in range(len(X_train_normal))]\n",
    "    y_malware = [1 for i in range(len(X_train_malware))]\n",
    "    X_train, X_test, y_train, y_test = train_test_split(X_train_normal, y_normal, test_size=0.3, random_state=1)\n",
    "    X_train2, X_test2, y_train2, y_test2 = train_test_split(X_train_malware, y_malware, test_size=0.3, random_state=1)\n",
    "    X_train.extend(X_train2)\n",
    "    y_train.extend(y_train2)\n",
    "    X_test.extend(X_test2)\n",
    "    y_test.extend(y_test2)\n",
    "    \n",
    "    random_indices1 = list(range(len(X_train)))\n",
    "    random_indices2 = list(range(len(X_test)))\n",
    "    random.shuffle(random_indices1)\n",
    "    random.shuffle(random_indices2)\n",
    "    X_train_new = []\n",
    "    y_train_new = []\n",
    "    X_test_new = []\n",
    "    y_test_new = []\n",
    "\n",
    "    for idx in random_indices1:\n",
    "        X_train_new.append(X_train[idx])\n",
    "        y_train_new.append(y_train[idx])\n",
    "    for idx in random_indices2:\n",
    "        X_test_new.append(X_test[idx])\n",
    "        y_test_new.append(y_test[idx])\n",
    "\n",
    "    X_train = X_train_new\n",
    "    y_train = y_train_new\n",
    "    X_test = X_test_new\n",
    "    y_test = y_test_new\n",
    "    \n",
    "    return X_train, y_train, X_test, y_test"
   ]
  },
  {
   "cell_type": "code",
   "execution_count": 32,
   "id": "2b6b4e70",
   "metadata": {},
   "outputs": [],
   "source": [
    "def ApplyClassifiers(X_train, y_train, X_test, y_test):\n",
    "    accuracies = []\n",
    "    accuracy = NaiveBayes(X_train, y_train, X_test, y_test)\n",
    "    accuracies.append(accuracy)\n",
    "    print(f\"Naive Bayes: {accuracy}\")\n",
    "    \n",
    "    accuracy = Logistic(X_train, y_train, X_test, y_test)\n",
    "    accuracies.append(accuracy)\n",
    "    print(f\"Logistic Regression: {accuracy}\")\n",
    "    \n",
    "    accuracy = MLP(X_train, y_train, X_test, y_test)\n",
    "    accuracies.append(accuracy)\n",
    "    print(f\"Multilayer Perceptron: {accuracy}\")\n",
    "    \n",
    "    accuracy = SGD(X_train, y_train, X_test, y_test)\n",
    "    accuracies.append(accuracy)\n",
    "    print(f\"Stochastic Gradient Descent: {accuracy}\")\n",
    "    \n",
    "#     X_train = np.array(X_train)\n",
    "#     y_train = np.array(y_train)\n",
    "#     X_test  = np.array(X_test)\n",
    "#     y_test  = np.array(y_test)\n",
    "#     accuracy = OneR(X_train, y_train, X_test, y_test)\n",
    "#     accuracies.append(accuracy)\n",
    "#     print(f\"OneR: {accuracy}\")\n",
    "    \n",
    "    accuracy = DecisionTree(X_train, y_train, X_test, y_test)\n",
    "    accuracies.append(accuracy)\n",
    "    print(f\"Decision Tree: {accuracy}\")\n",
    "    \n",
    "    return accuracies"
   ]
  },
  {
   "cell_type": "code",
   "execution_count": 33,
   "id": "40fac2a1",
   "metadata": {
    "scrolled": true
   },
   "outputs": [
    {
     "name": "stdout",
     "output_type": "stream",
     "text": [
      "Naive Bayes: 0.5035466173633116\n",
      "Logistic Regression: 0.5625091310283679\n",
      "Multilayer Perceptron: 0.5627836916054992\n"
     ]
    },
    {
     "name": "stderr",
     "output_type": "stream",
     "text": [
      "C:\\Users\\Deepthi\\AppData\\Local\\Programs\\Python\\Python310\\lib\\site-packages\\sklearn\\linear_model\\_stochastic_gradient.py:696: ConvergenceWarning: Maximum number of iteration reached before convergence. Consider increasing max_iter to improve the fit.\n",
      "  warnings.warn(\n"
     ]
    },
    {
     "name": "stdout",
     "output_type": "stream",
     "text": [
      "Stochastic Gradient Descent: 0.6225043954881385\n",
      "Decision Tree: 0.6179199895213577\n"
     ]
    }
   ],
   "source": [
    "X_train, y_train, X_test, y_test = ExtractData(X_train_normal, X_train_malware, 32)\n",
    "accuracies = ApplyClassifiers(X_train, y_train, X_test, y_test)"
   ]
  },
  {
   "cell_type": "code",
   "execution_count": 34,
   "id": "e5cfa8cb",
   "metadata": {},
   "outputs": [
    {
     "name": "stdout",
     "output_type": "stream",
     "text": [
      "[0.5035466173633116, 0.5625091310283679, 0.5627836916054992, 0.6225043954881385, 0.6179199895213577]\n"
     ]
    }
   ],
   "source": [
    "print(accuracies)"
   ]
  },
  {
   "cell_type": "code",
   "execution_count": null,
   "id": "e7241091",
   "metadata": {},
   "outputs": [],
   "source": [
    "\n",
    "\n",
    "\n"
   ]
  }
 ],
 "metadata": {
  "kernelspec": {
   "display_name": "Python 3",
   "language": "python",
   "name": "python3"
  },
  "language_info": {
   "codemirror_mode": {
    "name": "ipython",
    "version": 3
   },
   "file_extension": ".py",
   "mimetype": "text/x-python",
   "name": "python",
   "nbconvert_exporter": "python",
   "pygments_lexer": "ipython3",
   "version": "3.10.2"
  }
 },
 "nbformat": 4,
 "nbformat_minor": 5
}
